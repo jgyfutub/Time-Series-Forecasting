{
 "cells": [
  {
   "cell_type": "code",
   "execution_count": 1,
   "id": "375321c8",
   "metadata": {
    "_cell_guid": "b1076dfc-b9ad-4769-8c92-a6c4dae69d19",
    "_uuid": "8f2839f25d086af736a60e9eeb907d3b93b6e0e5",
    "execution": {
     "iopub.execute_input": "2025-01-02T13:51:42.558762Z",
     "iopub.status.busy": "2025-01-02T13:51:42.558424Z",
     "iopub.status.idle": "2025-01-02T13:51:53.385132Z",
     "shell.execute_reply": "2025-01-02T13:51:53.383602Z"
    },
    "papermill": {
     "duration": 10.836461,
     "end_time": "2025-01-02T13:51:53.387222",
     "exception": false,
     "start_time": "2025-01-02T13:51:42.550761",
     "status": "completed"
    },
    "tags": []
   },
   "outputs": [],
   "source": [
    "import pandas as pd\n",
    "import tensorflow as tf\n",
    "import numpy as np\n",
    "import os"
   ]
  },
  {
   "cell_type": "code",
   "execution_count": 2,
   "id": "a496d67c",
   "metadata": {
    "execution": {
     "iopub.execute_input": "2025-01-02T13:51:53.402589Z",
     "iopub.status.busy": "2025-01-02T13:51:53.401851Z",
     "iopub.status.idle": "2025-01-02T13:51:56.532152Z",
     "shell.execute_reply": "2025-01-02T13:51:56.531103Z"
    },
    "papermill": {
     "duration": 3.139986,
     "end_time": "2025-01-02T13:51:56.533933",
     "exception": false,
     "start_time": "2025-01-02T13:51:53.393947",
     "status": "completed"
    },
    "tags": []
   },
   "outputs": [
    {
     "data": {
      "text/html": [
       "<div>\n",
       "<style scoped>\n",
       "    .dataframe tbody tr th:only-of-type {\n",
       "        vertical-align: middle;\n",
       "    }\n",
       "\n",
       "    .dataframe tbody tr th {\n",
       "        vertical-align: top;\n",
       "    }\n",
       "\n",
       "    .dataframe thead th {\n",
       "        text-align: right;\n",
       "    }\n",
       "</style>\n",
       "<table border=\"1\" class=\"dataframe\">\n",
       "  <thead>\n",
       "    <tr style=\"text-align: right;\">\n",
       "      <th></th>\n",
       "      <th>id</th>\n",
       "      <th>date</th>\n",
       "      <th>store_nbr</th>\n",
       "      <th>family</th>\n",
       "      <th>sales</th>\n",
       "      <th>onpromotion</th>\n",
       "    </tr>\n",
       "  </thead>\n",
       "  <tbody>\n",
       "    <tr>\n",
       "      <th>0</th>\n",
       "      <td>0</td>\n",
       "      <td>2013-01-01</td>\n",
       "      <td>1</td>\n",
       "      <td>AUTOMOTIVE</td>\n",
       "      <td>0.000</td>\n",
       "      <td>0</td>\n",
       "    </tr>\n",
       "    <tr>\n",
       "      <th>1</th>\n",
       "      <td>1</td>\n",
       "      <td>2013-01-01</td>\n",
       "      <td>1</td>\n",
       "      <td>BABY CARE</td>\n",
       "      <td>0.000</td>\n",
       "      <td>0</td>\n",
       "    </tr>\n",
       "    <tr>\n",
       "      <th>2</th>\n",
       "      <td>2</td>\n",
       "      <td>2013-01-01</td>\n",
       "      <td>1</td>\n",
       "      <td>BEAUTY</td>\n",
       "      <td>0.000</td>\n",
       "      <td>0</td>\n",
       "    </tr>\n",
       "    <tr>\n",
       "      <th>3</th>\n",
       "      <td>3</td>\n",
       "      <td>2013-01-01</td>\n",
       "      <td>1</td>\n",
       "      <td>BEVERAGES</td>\n",
       "      <td>0.000</td>\n",
       "      <td>0</td>\n",
       "    </tr>\n",
       "    <tr>\n",
       "      <th>4</th>\n",
       "      <td>4</td>\n",
       "      <td>2013-01-01</td>\n",
       "      <td>1</td>\n",
       "      <td>BOOKS</td>\n",
       "      <td>0.000</td>\n",
       "      <td>0</td>\n",
       "    </tr>\n",
       "    <tr>\n",
       "      <th>...</th>\n",
       "      <td>...</td>\n",
       "      <td>...</td>\n",
       "      <td>...</td>\n",
       "      <td>...</td>\n",
       "      <td>...</td>\n",
       "      <td>...</td>\n",
       "    </tr>\n",
       "    <tr>\n",
       "      <th>3000883</th>\n",
       "      <td>3000883</td>\n",
       "      <td>2017-08-15</td>\n",
       "      <td>9</td>\n",
       "      <td>POULTRY</td>\n",
       "      <td>438.133</td>\n",
       "      <td>0</td>\n",
       "    </tr>\n",
       "    <tr>\n",
       "      <th>3000884</th>\n",
       "      <td>3000884</td>\n",
       "      <td>2017-08-15</td>\n",
       "      <td>9</td>\n",
       "      <td>PREPARED FOODS</td>\n",
       "      <td>154.553</td>\n",
       "      <td>1</td>\n",
       "    </tr>\n",
       "    <tr>\n",
       "      <th>3000885</th>\n",
       "      <td>3000885</td>\n",
       "      <td>2017-08-15</td>\n",
       "      <td>9</td>\n",
       "      <td>PRODUCE</td>\n",
       "      <td>2419.729</td>\n",
       "      <td>148</td>\n",
       "    </tr>\n",
       "    <tr>\n",
       "      <th>3000886</th>\n",
       "      <td>3000886</td>\n",
       "      <td>2017-08-15</td>\n",
       "      <td>9</td>\n",
       "      <td>SCHOOL AND OFFICE SUPPLIES</td>\n",
       "      <td>121.000</td>\n",
       "      <td>8</td>\n",
       "    </tr>\n",
       "    <tr>\n",
       "      <th>3000887</th>\n",
       "      <td>3000887</td>\n",
       "      <td>2017-08-15</td>\n",
       "      <td>9</td>\n",
       "      <td>SEAFOOD</td>\n",
       "      <td>16.000</td>\n",
       "      <td>0</td>\n",
       "    </tr>\n",
       "  </tbody>\n",
       "</table>\n",
       "<p>3000888 rows × 6 columns</p>\n",
       "</div>"
      ],
      "text/plain": [
       "              id        date  store_nbr                      family     sales  \\\n",
       "0              0  2013-01-01          1                  AUTOMOTIVE     0.000   \n",
       "1              1  2013-01-01          1                   BABY CARE     0.000   \n",
       "2              2  2013-01-01          1                      BEAUTY     0.000   \n",
       "3              3  2013-01-01          1                   BEVERAGES     0.000   \n",
       "4              4  2013-01-01          1                       BOOKS     0.000   \n",
       "...          ...         ...        ...                         ...       ...   \n",
       "3000883  3000883  2017-08-15          9                     POULTRY   438.133   \n",
       "3000884  3000884  2017-08-15          9              PREPARED FOODS   154.553   \n",
       "3000885  3000885  2017-08-15          9                     PRODUCE  2419.729   \n",
       "3000886  3000886  2017-08-15          9  SCHOOL AND OFFICE SUPPLIES   121.000   \n",
       "3000887  3000887  2017-08-15          9                     SEAFOOD    16.000   \n",
       "\n",
       "         onpromotion  \n",
       "0                  0  \n",
       "1                  0  \n",
       "2                  0  \n",
       "3                  0  \n",
       "4                  0  \n",
       "...              ...  \n",
       "3000883            0  \n",
       "3000884            1  \n",
       "3000885          148  \n",
       "3000886            8  \n",
       "3000887            0  \n",
       "\n",
       "[3000888 rows x 6 columns]"
      ]
     },
     "execution_count": 2,
     "metadata": {},
     "output_type": "execute_result"
    }
   ],
   "source": [
    "train=pd.read_csv('/kaggle/input/store-sales-time-series-forecasting/train.csv')\n",
    "train"
   ]
  },
  {
   "cell_type": "code",
   "execution_count": 3,
   "id": "5f77942a",
   "metadata": {
    "execution": {
     "iopub.execute_input": "2025-01-02T13:51:56.547244Z",
     "iopub.status.busy": "2025-01-02T13:51:56.546790Z",
     "iopub.status.idle": "2025-01-02T13:51:56.565136Z",
     "shell.execute_reply": "2025-01-02T13:51:56.563925Z"
    },
    "papermill": {
     "duration": 0.026898,
     "end_time": "2025-01-02T13:51:56.567020",
     "exception": false,
     "start_time": "2025-01-02T13:51:56.540122",
     "status": "completed"
    },
    "tags": []
   },
   "outputs": [],
   "source": [
    "holiday=pd.read_csv('/kaggle/input/store-sales-time-series-forecasting/holidays_events.csv')\n",
    "oil=pd.read_csv('/kaggle/input/store-sales-time-series-forecasting/oil.csv')"
   ]
  },
  {
   "cell_type": "code",
   "execution_count": 4,
   "id": "9a353d44",
   "metadata": {
    "execution": {
     "iopub.execute_input": "2025-01-02T13:51:56.580648Z",
     "iopub.status.busy": "2025-01-02T13:51:56.580313Z",
     "iopub.status.idle": "2025-01-02T13:51:59.352263Z",
     "shell.execute_reply": "2025-01-02T13:51:59.351092Z"
    },
    "papermill": {
     "duration": 2.781023,
     "end_time": "2025-01-02T13:51:59.354373",
     "exception": false,
     "start_time": "2025-01-02T13:51:56.573350",
     "status": "completed"
    },
    "tags": []
   },
   "outputs": [],
   "source": [
    "train=pd.merge(train, holiday, on='date', how='left')\n",
    "train=pd.merge(train, oil, on='date', how='left')"
   ]
  },
  {
   "cell_type": "code",
   "execution_count": 5,
   "id": "769d08eb",
   "metadata": {
    "execution": {
     "iopub.execute_input": "2025-01-02T13:51:59.367865Z",
     "iopub.status.busy": "2025-01-02T13:51:59.367526Z",
     "iopub.status.idle": "2025-01-02T13:51:59.377743Z",
     "shell.execute_reply": "2025-01-02T13:51:59.376494Z"
    },
    "papermill": {
     "duration": 0.019003,
     "end_time": "2025-01-02T13:51:59.379611",
     "exception": false,
     "start_time": "2025-01-02T13:51:59.360608",
     "status": "completed"
    },
    "tags": []
   },
   "outputs": [],
   "source": [
    "stores=pd.read_csv('/kaggle/input/store-sales-time-series-forecasting/stores.csv')"
   ]
  },
  {
   "cell_type": "code",
   "execution_count": 6,
   "id": "a175d6f7",
   "metadata": {
    "execution": {
     "iopub.execute_input": "2025-01-02T13:51:59.393093Z",
     "iopub.status.busy": "2025-01-02T13:51:59.392639Z",
     "iopub.status.idle": "2025-01-02T13:52:00.094046Z",
     "shell.execute_reply": "2025-01-02T13:52:00.092949Z"
    },
    "papermill": {
     "duration": 0.71017,
     "end_time": "2025-01-02T13:52:00.095980",
     "exception": false,
     "start_time": "2025-01-02T13:51:59.385810",
     "status": "completed"
    },
    "tags": []
   },
   "outputs": [],
   "source": [
    "train=pd.merge(train, stores, on='store_nbr', how='left')"
   ]
  },
  {
   "cell_type": "code",
   "execution_count": 7,
   "id": "6c84b8cf",
   "metadata": {
    "execution": {
     "iopub.execute_input": "2025-01-02T13:52:00.109489Z",
     "iopub.status.busy": "2025-01-02T13:52:00.109108Z",
     "iopub.status.idle": "2025-01-02T13:52:00.156904Z",
     "shell.execute_reply": "2025-01-02T13:52:00.155831Z"
    },
    "papermill": {
     "duration": 0.056761,
     "end_time": "2025-01-02T13:52:00.158984",
     "exception": false,
     "start_time": "2025-01-02T13:52:00.102223",
     "status": "completed"
    },
    "tags": []
   },
   "outputs": [],
   "source": [
    "transactions=pd.read_csv('/kaggle/input/store-sales-time-series-forecasting/transactions.csv')"
   ]
  },
  {
   "cell_type": "code",
   "execution_count": 8,
   "id": "c54ce514",
   "metadata": {
    "execution": {
     "iopub.execute_input": "2025-01-02T13:52:00.172768Z",
     "iopub.status.busy": "2025-01-02T13:52:00.172396Z",
     "iopub.status.idle": "2025-01-02T13:52:02.123409Z",
     "shell.execute_reply": "2025-01-02T13:52:02.122226Z"
    },
    "papermill": {
     "duration": 1.960164,
     "end_time": "2025-01-02T13:52:02.125363",
     "exception": false,
     "start_time": "2025-01-02T13:52:00.165199",
     "status": "completed"
    },
    "tags": []
   },
   "outputs": [],
   "source": [
    "train=pd.merge(train, transactions, on=[\"date\", \"store_nbr\"] , how='left')"
   ]
  },
  {
   "cell_type": "code",
   "execution_count": 9,
   "id": "bfaa5084",
   "metadata": {
    "execution": {
     "iopub.execute_input": "2025-01-02T13:52:02.139380Z",
     "iopub.status.busy": "2025-01-02T13:52:02.138946Z",
     "iopub.status.idle": "2025-01-02T13:52:03.290321Z",
     "shell.execute_reply": "2025-01-02T13:52:03.289186Z"
    },
    "papermill": {
     "duration": 1.160153,
     "end_time": "2025-01-02T13:52:03.292095",
     "exception": false,
     "start_time": "2025-01-02T13:52:02.131942",
     "status": "completed"
    },
    "tags": []
   },
   "outputs": [
    {
     "data": {
      "text/plain": [
       "id                    0\n",
       "date                  0\n",
       "store_nbr             0\n",
       "family                0\n",
       "sales                 0\n",
       "onpromotion           0\n",
       "type_x          2551824\n",
       "locale          2551824\n",
       "locale_name     2551824\n",
       "description     2551824\n",
       "transferred     2551824\n",
       "dcoilwtico       955152\n",
       "city                  0\n",
       "state                 0\n",
       "type_y                0\n",
       "cluster               0\n",
       "transactions     249117\n",
       "dtype: int64"
      ]
     },
     "execution_count": 9,
     "metadata": {},
     "output_type": "execute_result"
    }
   ],
   "source": [
    "train.isnull().sum()"
   ]
  },
  {
   "cell_type": "code",
   "execution_count": 10,
   "id": "c77010ac",
   "metadata": {
    "execution": {
     "iopub.execute_input": "2025-01-02T13:52:03.305758Z",
     "iopub.status.busy": "2025-01-02T13:52:03.305378Z",
     "iopub.status.idle": "2025-01-02T13:52:04.481140Z",
     "shell.execute_reply": "2025-01-02T13:52:04.479996Z"
    },
    "papermill": {
     "duration": 1.185049,
     "end_time": "2025-01-02T13:52:04.483394",
     "exception": false,
     "start_time": "2025-01-02T13:52:03.298345",
     "status": "completed"
    },
    "tags": []
   },
   "outputs": [],
   "source": [
    "train['date'] = pd.to_datetime(train['date'])\n",
    "train['day'] = train['date'].dt.day\n",
    "train['month'] = train['date'].dt.month\n",
    "train['year'] = train['date'].dt.year\n",
    "train['weekday_num'] = train['date'].dt.weekday\n",
    "train['day_of_year'] = train['date'].dt.dayofyear\n",
    "train['quarter'] = train['date'].dt.quarter\n",
    "train['is_leap_year'] = train['date'].dt.is_leap_year\n",
    "train['is_weekday'] = train['date'].dt.weekday < 5\n",
    "train['is_weekend'] = train['date'].dt.weekday >= 5"
   ]
  },
  {
   "cell_type": "code",
   "execution_count": 11,
   "id": "a19b6c84",
   "metadata": {
    "execution": {
     "iopub.execute_input": "2025-01-02T13:52:04.498874Z",
     "iopub.status.busy": "2025-01-02T13:52:04.498448Z",
     "iopub.status.idle": "2025-01-02T13:52:04.687107Z",
     "shell.execute_reply": "2025-01-02T13:52:04.685701Z"
    },
    "papermill": {
     "duration": 0.198807,
     "end_time": "2025-01-02T13:52:04.689497",
     "exception": false,
     "start_time": "2025-01-02T13:52:04.490690",
     "status": "completed"
    },
    "tags": []
   },
   "outputs": [
    {
     "data": {
      "text/plain": [
       "array(['AUTOMOTIVE', 'BABY CARE', 'BEAUTY', 'BEVERAGES', 'BOOKS',\n",
       "       'BREAD/BAKERY', 'CELEBRATION', 'CLEANING', 'DAIRY', 'DELI', 'EGGS',\n",
       "       'FROZEN FOODS', 'GROCERY I', 'GROCERY II', 'HARDWARE',\n",
       "       'HOME AND KITCHEN I', 'HOME AND KITCHEN II', 'HOME APPLIANCES',\n",
       "       'HOME CARE', 'LADIESWEAR', 'LAWN AND GARDEN', 'LINGERIE',\n",
       "       'LIQUOR,WINE,BEER', 'MAGAZINES', 'MEATS', 'PERSONAL CARE',\n",
       "       'PET SUPPLIES', 'PLAYERS AND ELECTRONICS', 'POULTRY',\n",
       "       'PREPARED FOODS', 'PRODUCE', 'SCHOOL AND OFFICE SUPPLIES',\n",
       "       'SEAFOOD'], dtype=object)"
      ]
     },
     "execution_count": 11,
     "metadata": {},
     "output_type": "execute_result"
    }
   ],
   "source": [
    "train['family'].unique()"
   ]
  },
  {
   "cell_type": "code",
   "execution_count": 12,
   "id": "6839f2a9",
   "metadata": {
    "execution": {
     "iopub.execute_input": "2025-01-02T13:52:04.706027Z",
     "iopub.status.busy": "2025-01-02T13:52:04.705663Z",
     "iopub.status.idle": "2025-01-02T13:52:04.735195Z",
     "shell.execute_reply": "2025-01-02T13:52:04.733887Z"
    },
    "papermill": {
     "duration": 0.039434,
     "end_time": "2025-01-02T13:52:04.737173",
     "exception": false,
     "start_time": "2025-01-02T13:52:04.697739",
     "status": "completed"
    },
    "tags": []
   },
   "outputs": [
    {
     "data": {
      "text/html": [
       "<div>\n",
       "<style scoped>\n",
       "    .dataframe tbody tr th:only-of-type {\n",
       "        vertical-align: middle;\n",
       "    }\n",
       "\n",
       "    .dataframe tbody tr th {\n",
       "        vertical-align: top;\n",
       "    }\n",
       "\n",
       "    .dataframe thead th {\n",
       "        text-align: right;\n",
       "    }\n",
       "</style>\n",
       "<table border=\"1\" class=\"dataframe\">\n",
       "  <thead>\n",
       "    <tr style=\"text-align: right;\">\n",
       "      <th></th>\n",
       "      <th>id</th>\n",
       "      <th>date</th>\n",
       "      <th>store_nbr</th>\n",
       "      <th>family</th>\n",
       "      <th>sales</th>\n",
       "      <th>onpromotion</th>\n",
       "      <th>type_x</th>\n",
       "      <th>locale</th>\n",
       "      <th>locale_name</th>\n",
       "      <th>description</th>\n",
       "      <th>...</th>\n",
       "      <th>transactions</th>\n",
       "      <th>day</th>\n",
       "      <th>month</th>\n",
       "      <th>year</th>\n",
       "      <th>weekday_num</th>\n",
       "      <th>day_of_year</th>\n",
       "      <th>quarter</th>\n",
       "      <th>is_leap_year</th>\n",
       "      <th>is_weekday</th>\n",
       "      <th>is_weekend</th>\n",
       "    </tr>\n",
       "  </thead>\n",
       "  <tbody>\n",
       "    <tr>\n",
       "      <th>0</th>\n",
       "      <td>0</td>\n",
       "      <td>2013-01-01</td>\n",
       "      <td>1</td>\n",
       "      <td>AUTOMOTIVE</td>\n",
       "      <td>0.0</td>\n",
       "      <td>0</td>\n",
       "      <td>Holiday</td>\n",
       "      <td>National</td>\n",
       "      <td>Ecuador</td>\n",
       "      <td>Primer dia del ano</td>\n",
       "      <td>...</td>\n",
       "      <td>NaN</td>\n",
       "      <td>1</td>\n",
       "      <td>1</td>\n",
       "      <td>2013</td>\n",
       "      <td>1</td>\n",
       "      <td>1</td>\n",
       "      <td>1</td>\n",
       "      <td>False</td>\n",
       "      <td>True</td>\n",
       "      <td>False</td>\n",
       "    </tr>\n",
       "    <tr>\n",
       "      <th>1</th>\n",
       "      <td>1</td>\n",
       "      <td>2013-01-01</td>\n",
       "      <td>1</td>\n",
       "      <td>BABY CARE</td>\n",
       "      <td>0.0</td>\n",
       "      <td>0</td>\n",
       "      <td>Holiday</td>\n",
       "      <td>National</td>\n",
       "      <td>Ecuador</td>\n",
       "      <td>Primer dia del ano</td>\n",
       "      <td>...</td>\n",
       "      <td>NaN</td>\n",
       "      <td>1</td>\n",
       "      <td>1</td>\n",
       "      <td>2013</td>\n",
       "      <td>1</td>\n",
       "      <td>1</td>\n",
       "      <td>1</td>\n",
       "      <td>False</td>\n",
       "      <td>True</td>\n",
       "      <td>False</td>\n",
       "    </tr>\n",
       "    <tr>\n",
       "      <th>2</th>\n",
       "      <td>2</td>\n",
       "      <td>2013-01-01</td>\n",
       "      <td>1</td>\n",
       "      <td>BEAUTY</td>\n",
       "      <td>0.0</td>\n",
       "      <td>0</td>\n",
       "      <td>Holiday</td>\n",
       "      <td>National</td>\n",
       "      <td>Ecuador</td>\n",
       "      <td>Primer dia del ano</td>\n",
       "      <td>...</td>\n",
       "      <td>NaN</td>\n",
       "      <td>1</td>\n",
       "      <td>1</td>\n",
       "      <td>2013</td>\n",
       "      <td>1</td>\n",
       "      <td>1</td>\n",
       "      <td>1</td>\n",
       "      <td>False</td>\n",
       "      <td>True</td>\n",
       "      <td>False</td>\n",
       "    </tr>\n",
       "    <tr>\n",
       "      <th>3</th>\n",
       "      <td>3</td>\n",
       "      <td>2013-01-01</td>\n",
       "      <td>1</td>\n",
       "      <td>BEVERAGES</td>\n",
       "      <td>0.0</td>\n",
       "      <td>0</td>\n",
       "      <td>Holiday</td>\n",
       "      <td>National</td>\n",
       "      <td>Ecuador</td>\n",
       "      <td>Primer dia del ano</td>\n",
       "      <td>...</td>\n",
       "      <td>NaN</td>\n",
       "      <td>1</td>\n",
       "      <td>1</td>\n",
       "      <td>2013</td>\n",
       "      <td>1</td>\n",
       "      <td>1</td>\n",
       "      <td>1</td>\n",
       "      <td>False</td>\n",
       "      <td>True</td>\n",
       "      <td>False</td>\n",
       "    </tr>\n",
       "    <tr>\n",
       "      <th>4</th>\n",
       "      <td>4</td>\n",
       "      <td>2013-01-01</td>\n",
       "      <td>1</td>\n",
       "      <td>BOOKS</td>\n",
       "      <td>0.0</td>\n",
       "      <td>0</td>\n",
       "      <td>Holiday</td>\n",
       "      <td>National</td>\n",
       "      <td>Ecuador</td>\n",
       "      <td>Primer dia del ano</td>\n",
       "      <td>...</td>\n",
       "      <td>NaN</td>\n",
       "      <td>1</td>\n",
       "      <td>1</td>\n",
       "      <td>2013</td>\n",
       "      <td>1</td>\n",
       "      <td>1</td>\n",
       "      <td>1</td>\n",
       "      <td>False</td>\n",
       "      <td>True</td>\n",
       "      <td>False</td>\n",
       "    </tr>\n",
       "  </tbody>\n",
       "</table>\n",
       "<p>5 rows × 26 columns</p>\n",
       "</div>"
      ],
      "text/plain": [
       "   id       date  store_nbr      family  sales  onpromotion   type_x  \\\n",
       "0   0 2013-01-01          1  AUTOMOTIVE    0.0            0  Holiday   \n",
       "1   1 2013-01-01          1   BABY CARE    0.0            0  Holiday   \n",
       "2   2 2013-01-01          1      BEAUTY    0.0            0  Holiday   \n",
       "3   3 2013-01-01          1   BEVERAGES    0.0            0  Holiday   \n",
       "4   4 2013-01-01          1       BOOKS    0.0            0  Holiday   \n",
       "\n",
       "     locale locale_name         description  ... transactions  day month  \\\n",
       "0  National     Ecuador  Primer dia del ano  ...          NaN    1     1   \n",
       "1  National     Ecuador  Primer dia del ano  ...          NaN    1     1   \n",
       "2  National     Ecuador  Primer dia del ano  ...          NaN    1     1   \n",
       "3  National     Ecuador  Primer dia del ano  ...          NaN    1     1   \n",
       "4  National     Ecuador  Primer dia del ano  ...          NaN    1     1   \n",
       "\n",
       "   year weekday_num  day_of_year  quarter  is_leap_year  is_weekday  \\\n",
       "0  2013           1            1        1         False        True   \n",
       "1  2013           1            1        1         False        True   \n",
       "2  2013           1            1        1         False        True   \n",
       "3  2013           1            1        1         False        True   \n",
       "4  2013           1            1        1         False        True   \n",
       "\n",
       "   is_weekend  \n",
       "0       False  \n",
       "1       False  \n",
       "2       False  \n",
       "3       False  \n",
       "4       False  \n",
       "\n",
       "[5 rows x 26 columns]"
      ]
     },
     "execution_count": 12,
     "metadata": {},
     "output_type": "execute_result"
    }
   ],
   "source": [
    "train.head()"
   ]
  },
  {
   "cell_type": "code",
   "execution_count": 13,
   "id": "8a272aee",
   "metadata": {
    "execution": {
     "iopub.execute_input": "2025-01-02T13:52:04.751972Z",
     "iopub.status.busy": "2025-01-02T13:52:04.751642Z",
     "iopub.status.idle": "2025-01-02T13:52:04.814888Z",
     "shell.execute_reply": "2025-01-02T13:52:04.813749Z"
    },
    "papermill": {
     "duration": 0.072371,
     "end_time": "2025-01-02T13:52:04.816655",
     "exception": false,
     "start_time": "2025-01-02T13:52:04.744284",
     "status": "completed"
    },
    "tags": []
   },
   "outputs": [
    {
     "data": {
      "text/plain": [
       "array(['Holiday', nan, 'Work Day', 'Additional', 'Event', 'Transfer',\n",
       "       'Bridge'], dtype=object)"
      ]
     },
     "execution_count": 13,
     "metadata": {},
     "output_type": "execute_result"
    }
   ],
   "source": [
    "train['type_x'].unique()"
   ]
  },
  {
   "cell_type": "code",
   "execution_count": 14,
   "id": "1cbe350c",
   "metadata": {
    "execution": {
     "iopub.execute_input": "2025-01-02T13:52:04.831592Z",
     "iopub.status.busy": "2025-01-02T13:52:04.831102Z",
     "iopub.status.idle": "2025-01-02T13:52:04.900086Z",
     "shell.execute_reply": "2025-01-02T13:52:04.898828Z"
    },
    "papermill": {
     "duration": 0.078618,
     "end_time": "2025-01-02T13:52:04.901959",
     "exception": false,
     "start_time": "2025-01-02T13:52:04.823341",
     "status": "completed"
    },
    "tags": []
   },
   "outputs": [
    {
     "data": {
      "text/plain": [
       "array(['National', nan, 'Local', 'Regional'], dtype=object)"
      ]
     },
     "execution_count": 14,
     "metadata": {},
     "output_type": "execute_result"
    }
   ],
   "source": [
    "train['locale'].unique()"
   ]
  },
  {
   "cell_type": "code",
   "execution_count": 15,
   "id": "09348582",
   "metadata": {
    "execution": {
     "iopub.execute_input": "2025-01-02T13:52:04.917043Z",
     "iopub.status.busy": "2025-01-02T13:52:04.916576Z",
     "iopub.status.idle": "2025-01-02T13:52:04.985856Z",
     "shell.execute_reply": "2025-01-02T13:52:04.984722Z"
    },
    "papermill": {
     "duration": 0.079116,
     "end_time": "2025-01-02T13:52:04.987926",
     "exception": false,
     "start_time": "2025-01-02T13:52:04.908810",
     "status": "completed"
    },
    "tags": []
   },
   "outputs": [
    {
     "data": {
      "text/plain": [
       "array(['Primer dia del ano', nan, 'Recupero puente Navidad',\n",
       "       'Recupero puente primer dia del ano', 'Carnaval',\n",
       "       'Fundacion de Manta', 'Provincializacion de Cotopaxi',\n",
       "       'Fundacion de Cuenca', 'Cantonizacion de Libertad',\n",
       "       'Cantonizacion de Riobamba', 'Viernes Santo', 'Dia del Trabajo',\n",
       "       'Dia de la Madre-1', 'Cantonizacion del Puyo', 'Dia de la Madre',\n",
       "       'Batalla de Pichincha', 'Cantonizacion de Guaranda',\n",
       "       'Provincializacion de Imbabura', 'Fundacion de Machala',\n",
       "       'Cantonizacion de Latacunga', 'Cantonizacion de El Carmen',\n",
       "       'Fundacion de Santo Domingo', 'Cantonizacion de Cayambe',\n",
       "       'Fundacion de Guayaquil-1', 'Fundacion de Guayaquil',\n",
       "       'Fundacion de Esmeraldas', 'Primer Grito de Independencia',\n",
       "       'Fundacion de Riobamba', 'Fundacion de Ambato',\n",
       "       'Fundacion de Ibarra', 'Cantonizacion de Quevedo',\n",
       "       'Independencia de Guayaquil',\n",
       "       'Traslado Independencia de Guayaquil', 'Dia de Difuntos',\n",
       "       'Independencia de Cuenca', 'Provincializacion de Santo Domingo',\n",
       "       'Provincializacion Santa Elena', 'Independencia de Guaranda',\n",
       "       'Independencia de Latacunga', 'Independencia de Ambato',\n",
       "       'Fundacion de Quito-1', 'Fundacion de Quito', 'Fundacion de Loja',\n",
       "       'Navidad-4', 'Navidad-3', 'Cantonizacion de Salinas', 'Navidad-2',\n",
       "       'Navidad-1', 'Navidad+1', 'Primer dia del ano-1',\n",
       "       'Inauguracion Mundial de futbol Brasil',\n",
       "       'Mundial de futbol Brasil: Ecuador-Suiza',\n",
       "       'Mundial de futbol Brasil: Ecuador-Honduras',\n",
       "       'Mundial de futbol Brasil: Ecuador-Francia',\n",
       "       'Mundial de futbol Brasil: Octavos de Final',\n",
       "       'Mundial de futbol Brasil: Cuartos de Final',\n",
       "       'Mundial de futbol Brasil: Semifinales',\n",
       "       'Mundial de futbol Brasil: Tercer y cuarto lugar',\n",
       "       'Mundial de futbol Brasil: Final', 'Black Friday', 'Cyber Monday',\n",
       "       'Recupero Puente Navidad', 'Puente Navidad',\n",
       "       'Puente Primer dia del ano', 'Recupero Puente Primer dia del ano',\n",
       "       'Terremoto Manabi', 'Terremoto Manabi+1', 'Terremoto Manabi+2',\n",
       "       'Terremoto Manabi+3', 'Terremoto Manabi+4', 'Terremoto Manabi+5',\n",
       "       'Terremoto Manabi+6', 'Terremoto Manabi+7', 'Terremoto Manabi+8',\n",
       "       'Terremoto Manabi+9', 'Terremoto Manabi+10', 'Terremoto Manabi+11',\n",
       "       'Terremoto Manabi+12', 'Terremoto Manabi+13',\n",
       "       'Terremoto Manabi+14', 'Terremoto Manabi+15',\n",
       "       'Terremoto Manabi+16', 'Terremoto Manabi+17',\n",
       "       'Terremoto Manabi+18', 'Terremoto Manabi+19',\n",
       "       'Terremoto Manabi+20', 'Terremoto Manabi+21',\n",
       "       'Terremoto Manabi+22', 'Terremoto Manabi+23',\n",
       "       'Terremoto Manabi+24', 'Terremoto Manabi+25',\n",
       "       'Terremoto Manabi+26', 'Terremoto Manabi+27',\n",
       "       'Terremoto Manabi+28', 'Terremoto Manabi+29',\n",
       "       'Terremoto Manabi+30', 'Traslado Batalla de Pichincha',\n",
       "       'Traslado Fundacion de Guayaquil',\n",
       "       'Traslado Primer Grito de Independencia', 'Puente Dia de Difuntos',\n",
       "       'Recupero Puente Dia de Difuntos', 'Traslado Primer dia del ano'],\n",
       "      dtype=object)"
      ]
     },
     "execution_count": 15,
     "metadata": {},
     "output_type": "execute_result"
    }
   ],
   "source": [
    "train['description'].unique()"
   ]
  },
  {
   "cell_type": "code",
   "execution_count": 16,
   "id": "8065ff90",
   "metadata": {
    "execution": {
     "iopub.execute_input": "2025-01-02T13:52:05.003662Z",
     "iopub.status.busy": "2025-01-02T13:52:05.003168Z",
     "iopub.status.idle": "2025-01-02T13:52:05.169353Z",
     "shell.execute_reply": "2025-01-02T13:52:05.167969Z"
    },
    "papermill": {
     "duration": 0.176467,
     "end_time": "2025-01-02T13:52:05.171562",
     "exception": false,
     "start_time": "2025-01-02T13:52:04.995095",
     "status": "completed"
    },
    "tags": []
   },
   "outputs": [
    {
     "data": {
      "text/plain": [
       "array(['Quito', 'Cayambe', 'Latacunga', 'Riobamba', 'Ibarra',\n",
       "       'Santo Domingo', 'Guaranda', 'Puyo', 'Ambato', 'Guayaquil',\n",
       "       'Salinas', 'Daule', 'Babahoyo', 'Quevedo', 'Playas', 'Libertad',\n",
       "       'Cuenca', 'Loja', 'Machala', 'Esmeraldas', 'Manta', 'El Carmen'],\n",
       "      dtype=object)"
      ]
     },
     "execution_count": 16,
     "metadata": {},
     "output_type": "execute_result"
    }
   ],
   "source": [
    "train['city'].unique()"
   ]
  },
  {
   "cell_type": "code",
   "execution_count": 17,
   "id": "8976e997",
   "metadata": {
    "execution": {
     "iopub.execute_input": "2025-01-02T13:52:05.192152Z",
     "iopub.status.busy": "2025-01-02T13:52:05.191762Z",
     "iopub.status.idle": "2025-01-02T13:52:05.376578Z",
     "shell.execute_reply": "2025-01-02T13:52:05.375011Z"
    },
    "papermill": {
     "duration": 0.195273,
     "end_time": "2025-01-02T13:52:05.378878",
     "exception": false,
     "start_time": "2025-01-02T13:52:05.183605",
     "status": "completed"
    },
    "tags": []
   },
   "outputs": [],
   "source": [
    "train['locale']=train['locale'].fillna('None')"
   ]
  },
  {
   "cell_type": "code",
   "execution_count": 18,
   "id": "4420c5a1",
   "metadata": {
    "execution": {
     "iopub.execute_input": "2025-01-02T13:52:05.406289Z",
     "iopub.status.busy": "2025-01-02T13:52:05.405837Z",
     "iopub.status.idle": "2025-01-02T13:52:05.575030Z",
     "shell.execute_reply": "2025-01-02T13:52:05.573930Z"
    },
    "papermill": {
     "duration": 0.185368,
     "end_time": "2025-01-02T13:52:05.577056",
     "exception": false,
     "start_time": "2025-01-02T13:52:05.391688",
     "status": "completed"
    },
    "tags": []
   },
   "outputs": [],
   "source": [
    "train['type_x']=train['type_x'].fillna('None')"
   ]
  },
  {
   "cell_type": "code",
   "execution_count": 19,
   "id": "69172387",
   "metadata": {
    "execution": {
     "iopub.execute_input": "2025-01-02T13:52:05.592311Z",
     "iopub.status.busy": "2025-01-02T13:52:05.591903Z",
     "iopub.status.idle": "2025-01-02T13:52:05.762624Z",
     "shell.execute_reply": "2025-01-02T13:52:05.761432Z"
    },
    "papermill": {
     "duration": 0.180566,
     "end_time": "2025-01-02T13:52:05.764714",
     "exception": false,
     "start_time": "2025-01-02T13:52:05.584148",
     "status": "completed"
    },
    "tags": []
   },
   "outputs": [],
   "source": [
    "train['locale_name']=train['locale_name'].fillna('None')"
   ]
  },
  {
   "cell_type": "code",
   "execution_count": 20,
   "id": "1414ffa4",
   "metadata": {
    "execution": {
     "iopub.execute_input": "2025-01-02T13:52:05.779809Z",
     "iopub.status.busy": "2025-01-02T13:52:05.779436Z",
     "iopub.status.idle": "2025-01-02T13:52:05.952667Z",
     "shell.execute_reply": "2025-01-02T13:52:05.951442Z"
    },
    "papermill": {
     "duration": 0.183304,
     "end_time": "2025-01-02T13:52:05.954931",
     "exception": false,
     "start_time": "2025-01-02T13:52:05.771627",
     "status": "completed"
    },
    "tags": []
   },
   "outputs": [],
   "source": [
    "train['transferred']=train['transferred'].fillna('None')"
   ]
  },
  {
   "cell_type": "code",
   "execution_count": 21,
   "id": "34fcbb90",
   "metadata": {
    "execution": {
     "iopub.execute_input": "2025-01-02T13:52:05.970046Z",
     "iopub.status.busy": "2025-01-02T13:52:05.969694Z",
     "iopub.status.idle": "2025-01-02T13:52:06.009953Z",
     "shell.execute_reply": "2025-01-02T13:52:06.008727Z"
    },
    "papermill": {
     "duration": 0.050177,
     "end_time": "2025-01-02T13:52:06.012100",
     "exception": false,
     "start_time": "2025-01-02T13:52:05.961923",
     "status": "completed"
    },
    "tags": []
   },
   "outputs": [],
   "source": [
    "train['dcoilwtico']=train['dcoilwtico'].fillna(train['dcoilwtico'].mean())"
   ]
  },
  {
   "cell_type": "code",
   "execution_count": 22,
   "id": "e859a9a3",
   "metadata": {
    "execution": {
     "iopub.execute_input": "2025-01-02T13:52:06.027559Z",
     "iopub.status.busy": "2025-01-02T13:52:06.027017Z",
     "iopub.status.idle": "2025-01-02T13:52:06.067253Z",
     "shell.execute_reply": "2025-01-02T13:52:06.065980Z"
    },
    "papermill": {
     "duration": 0.050072,
     "end_time": "2025-01-02T13:52:06.069283",
     "exception": false,
     "start_time": "2025-01-02T13:52:06.019211",
     "status": "completed"
    },
    "tags": []
   },
   "outputs": [],
   "source": [
    "train['transactions']=train['transactions'].fillna(train['transactions'].mean())"
   ]
  },
  {
   "cell_type": "code",
   "execution_count": 23,
   "id": "1fdcf5f8",
   "metadata": {
    "execution": {
     "iopub.execute_input": "2025-01-02T13:52:06.084804Z",
     "iopub.status.busy": "2025-01-02T13:52:06.084463Z",
     "iopub.status.idle": "2025-01-02T13:52:06.252417Z",
     "shell.execute_reply": "2025-01-02T13:52:06.251237Z"
    },
    "papermill": {
     "duration": 0.178381,
     "end_time": "2025-01-02T13:52:06.254608",
     "exception": false,
     "start_time": "2025-01-02T13:52:06.076227",
     "status": "completed"
    },
    "tags": []
   },
   "outputs": [],
   "source": [
    "train['description']=train['description'].fillna('None')"
   ]
  },
  {
   "cell_type": "code",
   "execution_count": 24,
   "id": "9824a8c0",
   "metadata": {
    "execution": {
     "iopub.execute_input": "2025-01-02T13:52:06.269632Z",
     "iopub.status.busy": "2025-01-02T13:52:06.269274Z",
     "iopub.status.idle": "2025-01-02T13:52:07.586732Z",
     "shell.execute_reply": "2025-01-02T13:52:07.585342Z"
    },
    "papermill": {
     "duration": 1.327053,
     "end_time": "2025-01-02T13:52:07.588676",
     "exception": false,
     "start_time": "2025-01-02T13:52:06.261623",
     "status": "completed"
    },
    "tags": []
   },
   "outputs": [
    {
     "data": {
      "text/plain": [
       "id              0\n",
       "date            0\n",
       "store_nbr       0\n",
       "family          0\n",
       "sales           0\n",
       "onpromotion     0\n",
       "type_x          0\n",
       "locale          0\n",
       "locale_name     0\n",
       "description     0\n",
       "transferred     0\n",
       "dcoilwtico      0\n",
       "city            0\n",
       "state           0\n",
       "type_y          0\n",
       "cluster         0\n",
       "transactions    0\n",
       "day             0\n",
       "month           0\n",
       "year            0\n",
       "weekday_num     0\n",
       "day_of_year     0\n",
       "quarter         0\n",
       "is_leap_year    0\n",
       "is_weekday      0\n",
       "is_weekend      0\n",
       "dtype: int64"
      ]
     },
     "execution_count": 24,
     "metadata": {},
     "output_type": "execute_result"
    }
   ],
   "source": [
    "train.isnull().sum()"
   ]
  },
  {
   "cell_type": "code",
   "execution_count": 25,
   "id": "72297b1b",
   "metadata": {
    "execution": {
     "iopub.execute_input": "2025-01-02T13:52:07.604933Z",
     "iopub.status.busy": "2025-01-02T13:52:07.604554Z",
     "iopub.status.idle": "2025-01-02T13:52:09.192827Z",
     "shell.execute_reply": "2025-01-02T13:52:09.191555Z"
    },
    "papermill": {
     "duration": 1.598906,
     "end_time": "2025-01-02T13:52:09.194953",
     "exception": false,
     "start_time": "2025-01-02T13:52:07.596047",
     "status": "completed"
    },
    "tags": []
   },
   "outputs": [],
   "source": [
    "train['extracted_number'] = train['description'].str.extract(r'([+-]\\d+)')"
   ]
  },
  {
   "cell_type": "code",
   "execution_count": 26,
   "id": "d97c4b25",
   "metadata": {
    "execution": {
     "iopub.execute_input": "2025-01-02T13:52:09.210979Z",
     "iopub.status.busy": "2025-01-02T13:52:09.210629Z",
     "iopub.status.idle": "2025-01-02T13:52:09.472622Z",
     "shell.execute_reply": "2025-01-02T13:52:09.471626Z"
    },
    "papermill": {
     "duration": 0.271932,
     "end_time": "2025-01-02T13:52:09.474560",
     "exception": false,
     "start_time": "2025-01-02T13:52:09.202628",
     "status": "completed"
    },
    "tags": []
   },
   "outputs": [],
   "source": [
    "train['extracted_number']=train['extracted_number'].fillna(0)"
   ]
  },
  {
   "cell_type": "code",
   "execution_count": 27,
   "id": "2fad0e59",
   "metadata": {
    "execution": {
     "iopub.execute_input": "2025-01-02T13:52:09.489850Z",
     "iopub.status.busy": "2025-01-02T13:52:09.489520Z",
     "iopub.status.idle": "2025-01-02T13:52:12.092003Z",
     "shell.execute_reply": "2025-01-02T13:52:12.090764Z"
    },
    "papermill": {
     "duration": 2.612288,
     "end_time": "2025-01-02T13:52:12.093914",
     "exception": false,
     "start_time": "2025-01-02T13:52:09.481626",
     "status": "completed"
    },
    "tags": []
   },
   "outputs": [
    {
     "data": {
      "text/plain": [
       "['Batalla de Pichincha',\n",
       " 'Black Friday',\n",
       " 'Cantonizacion de Cayambe',\n",
       " 'Cantonizacion de El Carmen',\n",
       " 'Cantonizacion de Guaranda',\n",
       " 'Cantonizacion de Latacunga',\n",
       " 'Cantonizacion de Libertad',\n",
       " 'Cantonizacion de Quevedo',\n",
       " 'Cantonizacion de Riobamba',\n",
       " 'Cantonizacion de Salinas',\n",
       " 'Cantonizacion del Puyo',\n",
       " 'Carnaval',\n",
       " 'Cyber Monday',\n",
       " 'Dia de Difuntos',\n",
       " 'Dia de la Madre',\n",
       " 'Dia del Trabajo',\n",
       " 'Fundacion de Ambato',\n",
       " 'Fundacion de Cuenca',\n",
       " 'Fundacion de Esmeraldas',\n",
       " 'Fundacion de Guayaquil',\n",
       " 'Fundacion de Ibarra',\n",
       " 'Fundacion de Loja',\n",
       " 'Fundacion de Machala',\n",
       " 'Fundacion de Manta',\n",
       " 'Fundacion de Quito',\n",
       " 'Fundacion de Riobamba',\n",
       " 'Fundacion de Santo Domingo',\n",
       " 'Inauguracion Mundial de futbol Brasil',\n",
       " 'Independencia de Ambato',\n",
       " 'Independencia de Cuenca',\n",
       " 'Independencia de Guaranda',\n",
       " 'Independencia de Guayaquil',\n",
       " 'Independencia de Latacunga',\n",
       " 'Mundial de futbol Brasil: Cuartos de Final',\n",
       " 'Mundial de futbol Brasil: Ecuador-Francia',\n",
       " 'Mundial de futbol Brasil: Ecuador-Honduras',\n",
       " 'Mundial de futbol Brasil: Ecuador-Suiza',\n",
       " 'Mundial de futbol Brasil: Final',\n",
       " 'Mundial de futbol Brasil: Octavos de Final',\n",
       " 'Mundial de futbol Brasil: Semifinales',\n",
       " 'Mundial de futbol Brasil: Tercer y cuarto lugar',\n",
       " 'Navidad',\n",
       " 'None',\n",
       " 'Primer Grito de Independencia',\n",
       " 'Primer dia del ano',\n",
       " 'Provincializacion Santa Elena',\n",
       " 'Provincializacion de Cotopaxi',\n",
       " 'Provincializacion de Imbabura',\n",
       " 'Provincializacion de Santo Domingo',\n",
       " 'Puente Dia de Difuntos',\n",
       " 'Puente Navidad',\n",
       " 'Puente Primer dia del ano',\n",
       " 'Recupero Puente Dia de Difuntos',\n",
       " 'Recupero Puente Navidad',\n",
       " 'Recupero Puente Primer dia del ano',\n",
       " 'Recupero puente Navidad',\n",
       " 'Recupero puente primer dia del ano',\n",
       " 'Terremoto Manabi',\n",
       " 'Traslado Batalla de Pichincha',\n",
       " 'Traslado Fundacion de Guayaquil',\n",
       " 'Traslado Independencia de Guayaquil',\n",
       " 'Traslado Primer Grito de Independencia',\n",
       " 'Traslado Primer dia del ano',\n",
       " 'Viernes Santo']"
      ]
     },
     "execution_count": 27,
     "metadata": {},
     "output_type": "execute_result"
    }
   ],
   "source": [
    "train['sentence'] = train['description'].str.replace(r'[+-]\\d+', '', regex=True).str.strip()\n",
    "sorted(train['sentence'].unique())"
   ]
  },
  {
   "cell_type": "code",
   "execution_count": null,
   "id": "48196477",
   "metadata": {
    "papermill": {
     "duration": 0.007284,
     "end_time": "2025-01-02T13:52:12.108706",
     "exception": false,
     "start_time": "2025-01-02T13:52:12.101422",
     "status": "completed"
    },
    "tags": []
   },
   "outputs": [],
   "source": []
  }
 ],
 "metadata": {
  "kaggle": {
   "accelerator": "none",
   "dataSources": [
    {
     "databundleVersionId": 2887556,
     "sourceId": 29781,
     "sourceType": "competition"
    }
   ],
   "dockerImageVersionId": 30822,
   "isGpuEnabled": false,
   "isInternetEnabled": true,
   "language": "python",
   "sourceType": "notebook"
  },
  "kernelspec": {
   "display_name": "Python 3",
   "language": "python",
   "name": "python3"
  },
  "language_info": {
   "codemirror_mode": {
    "name": "ipython",
    "version": 3
   },
   "file_extension": ".py",
   "mimetype": "text/x-python",
   "name": "python",
   "nbconvert_exporter": "python",
   "pygments_lexer": "ipython3",
   "version": "3.10.12"
  },
  "papermill": {
   "default_parameters": {},
   "duration": 33.457021,
   "end_time": "2025-01-02T13:52:13.641170",
   "environment_variables": {},
   "exception": null,
   "input_path": "__notebook__.ipynb",
   "output_path": "__notebook__.ipynb",
   "parameters": {},
   "start_time": "2025-01-02T13:51:40.184149",
   "version": "2.6.0"
  }
 },
 "nbformat": 4,
 "nbformat_minor": 5
}
